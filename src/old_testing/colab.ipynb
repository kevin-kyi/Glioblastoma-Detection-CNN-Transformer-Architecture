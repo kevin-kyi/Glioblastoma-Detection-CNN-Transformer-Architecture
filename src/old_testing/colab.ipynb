{
 "cells": [
  {
   "cell_type": "code",
   "execution_count": null,
   "metadata": {},
   "outputs": [],
   "source": [
    "from google.colab import drive\n",
    "drive.mount('/content/drive')\n",
    "\n",
    "%cd /content\n",
    "!git clone --branch kevin-branch https://github.com/kevin-kyi/Glioblastoma-Detection-CNN-Transformer-Architecture.git\n",
    "%cd Glioblastoma-Detection-CNN-Transformer-Architecture"
   ]
  }
 ],
 "metadata": {
  "language_info": {
   "name": "python"
  },
  "orig_nbformat": 4
 },
 "nbformat": 4,
 "nbformat_minor": 2
}
